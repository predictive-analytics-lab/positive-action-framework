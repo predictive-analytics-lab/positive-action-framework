{
 "cells": [
  {
   "cell_type": "code",
   "execution_count": 1,
   "metadata": {},
   "outputs": [],
   "source": [
    "import ethicml as em\n",
    "import matplotlib as mpl\n",
    "import matplotlib.pyplot as plt"
   ]
  },
  {
   "cell_type": "code",
   "execution_count": 2,
   "metadata": {},
   "outputs": [],
   "source": [
    "from ethicml import DataTuple"
   ]
  },
  {
   "cell_type": "code",
   "execution_count": null,
   "metadata": {},
   "outputs": [],
   "source": []
  },
  {
   "cell_type": "code",
   "execution_count": 27,
   "metadata": {},
   "outputs": [],
   "source": [
    "def label_plot(num_s0y0, num_s0y1, num_s0y2, num_s1y0, num_s1y1, num_s1y2, name: str = \"\"):\n",
    "\n",
    "    mpl.style.use(\"seaborn-pastel\")\n",
    "    \n",
    "    \n",
    "    total = num_s0y0 + num_s0y1 + num_s0y2 + num_s1y0 + num_s1y1 + num_s1y2\n",
    "    total_s0 = num_s0y0 + num_s0y1 + num_s0y2\n",
    "    total_s1 = num_s1y0 + num_s1y1 + num_s1y2\n",
    "    \n",
    "\n",
    "    fig, plot = plt.subplots()\n",
    "\n",
    "    quadrant1 = plot.bar(\n",
    "        0,\n",
    "        height=(num_s0y0 / total_s0) * 100,\n",
    "        width=(total_s0 / total) * 100,\n",
    "        align=\"edge\",\n",
    "        edgecolor=\"black\",\n",
    "        color=\"#FFFFFF\",\n",
    "    )\n",
    "    quadrant2 = plot.bar(\n",
    "        (total_s0 / total) * 100,\n",
    "        height=(num_s1y0 / total_s1) * 100,\n",
    "        width=(total_s1 / total) * 100,\n",
    "        align=\"edge\",\n",
    "        edgecolor=\"black\",\n",
    "        color=\"#FFFFFF\",\n",
    "    )\n",
    "    quadrant3 = plot.bar(\n",
    "        0,\n",
    "        height=(num_s0y2 / total_s0) * 100,\n",
    "        width=(total_s0 / total) * 100,\n",
    "        bottom=(num_s0y0 / total_s0) * 100,\n",
    "        align=\"edge\",\n",
    "        edgecolor=\"black\",\n",
    "        color=\"#FFFFFF\",\n",
    "        hatch='o'\n",
    "    )\n",
    "    quadrant4 = plot.bar(\n",
    "        (total_s0 / total) * 100,\n",
    "        height=(num_s1y2 / total_s1) * 100,\n",
    "        width=(total_s1 / total) * 100,\n",
    "        bottom=(num_s1y0 / total_s1) * 100,\n",
    "        align=\"edge\",\n",
    "        edgecolor=\"black\",\n",
    "        color=\"#FFFFFF\",\n",
    "        hatch='x'\n",
    "    )\n",
    "    quadrant5 = plot.bar(\n",
    "        0,\n",
    "        height=(num_s0y1 / total_s0) * 100,\n",
    "        width=(total_s0 / total) * 100,\n",
    "        bottom=((num_s0y0 / total_s0) * 100) + ((num_s0y2 / total_s0) * 100),\n",
    "        align=\"edge\",\n",
    "        edgecolor=\"black\",\n",
    "        color=\"#FFFFFF\",\n",
    "    )\n",
    "    quadrant6 = plot.bar(\n",
    "        (total_s0 / total) * 100,\n",
    "        height=(num_s1y1 / total_s1) * 100,\n",
    "        width=(total_s1 / total) * 100,\n",
    "        bottom=((num_s1y0 / total_s1) * 100) + ((num_s1y2 / total_s1) * 100),\n",
    "        align=\"edge\",\n",
    "        edgecolor=\"black\",\n",
    "        color=\"#FFFFFF\",\n",
    "    )\n",
    "\n",
    "\n",
    "    plot.set_ylim(0, 100)\n",
    "    plot.set_xlim(0, 100)\n",
    "    plot.set_ylabel(f\"Percent Y=y\")\n",
    "    plot.set_xlabel(f\"Percent S=s\")\n",
    "    plot.set_title(\"Predicted Outcomes by class and sensitive attribute\")\n",
    "    \n",
    "    plt.tight_layout()\n",
    "    plt.savefig(f\"./{name}.pdf\")\n",
    "\n",
    "#     plot.legend(\n",
    "#         [quadrant5, quadrant6, quadrant3, quadrant4, quadrant1, quadrant2],\n",
    "#         [\n",
    "#             f\"G1\",\n",
    "#             f\"G2\",\n",
    "#             f\"G3\",\n",
    "#             f\"G4\",\n",
    "#             f\"G5\",\n",
    "#             f\"G6\",\n",
    "#         ],\n",
    "#     )\n",
    "\n",
    "    "
   ]
  },
  {
   "cell_type": "code",
   "execution_count": 28,
   "metadata": {},
   "outputs": [
    {
     "data": {
      "image/png": "[encoded data removed]",
      "text/plain": [
       "<Figure size 432x288 with 1 Axes>"
      ]
     },
     "metadata": {
      "needs_background": "light"
     },
     "output_type": "display_data"
    }
   ],
   "source": [
    "# Sex\n",
    "label_plot(num_s0y0=20221, num_s0y1=3132, num_s0y2=6094, num_s1y0=44569, num_s1y1=1322, num_s1y2=15112, name= \"adult_sex\")"
   ]
  },
  {
   "cell_type": "code",
   "execution_count": 29,
   "metadata": {},
   "outputs": [
    {
     "data": {
      "image/png": "[encoded data removed]",
      "text/plain": [
       "<Figure size 432x288 with 1 Axes>"
      ]
     },
     "metadata": {
      "needs_background": "light"
     },
     "output_type": "display_data"
    }
   ],
   "source": [
    "# Binary Race\n",
    "label_plot(num_s0y0=10378, num_s0y1=1553, num_s0y2=511, num_s1y0=60853, num_s1y1=6025, num_s1y2=6037, name= \"adult_race\")"
   ]
  },
  {
   "cell_type": "code",
   "execution_count": 30,
   "metadata": {},
   "outputs": [
    {
     "data": {
      "image/png": "[encoded data removed]",
      "text/plain": [
       "<Figure size 432x288 with 1 Axes>"
      ]
     },
     "metadata": {
      "needs_background": "light"
     },
     "output_type": "display_data"
    }
   ],
   "source": [
    "# Binary Race\n",
    "label_plot(num_s0y0=32589, num_s0y1=1353, num_s0y2=13215, num_s1y0=26067, num_s1y1=190, num_s1y2=17056, name= \"adult_married\")"
   ]
  },
  {
   "cell_type": "code",
   "execution_count": null,
   "metadata": {},
   "outputs": [],
   "source": []
  }
 ],
 "metadata": {
  "kernelspec": {
   "display_name": "ethint",
   "language": "python",
   "name": "ethint"
  },
  "language_info": {
   "codemirror_mode": {
    "name": "ipython",
    "version": 3
   },
   "file_extension": ".py",
   "mimetype": "text/x-python",
   "name": "python",
   "nbconvert_exporter": "python",
   "pygments_lexer": "ipython3",
   "version": "3.8.1"
  }
 },
 "nbformat": 4,
 "nbformat_minor": 4
}
